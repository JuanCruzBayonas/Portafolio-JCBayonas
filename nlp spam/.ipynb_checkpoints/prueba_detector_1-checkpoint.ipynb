{
 "cells": [
  {
   "cell_type": "code",
   "execution_count": 1,
   "metadata": {},
   "outputs": [],
   "source": [
    "import Algorithmia\n",
    "\n",
    "# APIKEY para autenticar\n",
    "apiKey = \"simMiYTOl2rAufyFCzA0yXG6yAT1\"\n",
    "\n",
    "# Cliente de Algoritmia\n",
    "client = Algorithmia.client(apiKey)"
   ]
  },
  {
   "cell_type": "code",
   "execution_count": 5,
   "metadata": {},
   "outputs": [
    {
     "name": "stdout",
     "output_type": "stream",
     "text": [
      "spam message\n"
     ]
    }
   ],
   "source": [
    "# Creamos el objeto\n",
    "algo = client.algo('JuanCruzBayonas/SpamDetector/1.1.0')\n",
    "\n",
    "# Input requerido por el algoritmo\n",
    "input_sms = \"message me for a free card\"\n",
    "\n",
    "try:\n",
    "    # Resultado\n",
    "    print(algo.pipe(input_sms).result)\n",
    "except Exception as error:\n",
    "    # Error del algoritmo, mal tipeado por ejemplo\n",
    "    print(error)"
   ]
  },
  {
   "cell_type": "code",
   "execution_count": null,
   "metadata": {},
   "outputs": [],
   "source": []
  }
 ],
 "metadata": {
  "kernelspec": {
   "display_name": "Python 3",
   "language": "python",
   "name": "python3"
  },
  "language_info": {
   "codemirror_mode": {
    "name": "ipython",
    "version": 3
   },
   "file_extension": ".py",
   "mimetype": "text/x-python",
   "name": "python",
   "nbconvert_exporter": "python",
   "pygments_lexer": "ipython3",
   "version": "3.8.3"
  }
 },
 "nbformat": 4,
 "nbformat_minor": 4
}
