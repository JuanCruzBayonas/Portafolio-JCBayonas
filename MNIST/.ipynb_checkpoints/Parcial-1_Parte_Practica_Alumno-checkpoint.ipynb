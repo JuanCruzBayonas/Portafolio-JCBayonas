{
 "cells": [
  {
   "cell_type": "markdown",
   "metadata": {},
   "source": [
    "# Los Datos\n",
    "\n",
    "MNIST es una base de datos con 70 mil capturas de dígitos escritos a mano, del 0 al 9.  La misma fue creada en su momento por empleados del *US Census Bureau* de Estados Unidos y por estudiantes con el objetivo de crear un sistema capaz de reconocer los números de los códigos postales.   "
   ]
  },
  {
   "cell_type": "markdown",
   "metadata": {},
   "source": [
    "Su tarea es la de identificar correctamente nuevos dígitos escritos a mano. Para ello le brindaremos:\n",
    "\n",
    "- 60 mil imágenes previamente clasificados con su correspondiente etiqueta (0-9)\n",
    "- 10 mil imágenes sin etiquetar, que Ud. deberá pronosticar. \n",
    "\n",
    "Nosotros no hemos quedado con las etiquetas de estas últimas 10 mil imágenes para evaluar sus pronósticos.   \n",
    "\n",
    "Todas las imágenes tienen una resolución de 28x28 pixels y están en escala de grises, pero **esta vez los datos ya están \"planos\" es decir que no necesitará efectuar \"Flatten\" para procesarlos**."
   ]
  },
  {
   "cell_type": "markdown",
   "metadata": {
    "ExecuteTime": {
     "end_time": "2021-01-07T20:28:29.709727Z",
     "start_time": "2021-01-07T20:28:29.705352Z"
    }
   },
   "source": [
    "Usted deberá:\n",
    "\n",
    "**Primera Parte:** \n",
    "\n",
    "1- Visualizar las imágenes: debe instrumentar alguna manera que nos permita ver una por una o en grupo las imágenes. Deberá mostrar la imagen y la correspondiente etiqueta. **Tenga en cuenta que esta vez como los datos ya están planos, Ud deberá trasformarlos en una matriz de 28x28 para poder visualizarlos**.   \n",
    "\n",
    "2- Generar el modelo de **produccion_1**. Para ello deberá efectuar selección de modelo entre los de **Machine Learning Clásico y Redes Neuronales eligiendo el que considere que funcionará mejor**.     \n",
    "\n",
    "3- Con el modelo de Producción_1 deberá efectuar etiquetar las 10 mil imágenes provistas. Guarde las 10 mil etiquetas generadas como un array de numpy. \n",
    "\n",
    "4- La métrica será Accuracy.   \n",
    "\n",
    "**Segunda Parte**:  \n",
    "\n",
    "Luego de observar las imágenes, Ud supone que algunos pixels de la misma tienen poca relevancia para determinar qué número está escrito en ellas. \n",
    "\n",
    "1- Con los métodos vistos en PP3 (esencialmente filtros) deberá generar un conjunto de **a lo sumo 200 pixels** con los cuales deberá repetir la primera parte.  \n",
    "2- Al modelo de producción de esta segunda parte deberá llamarlo **produccion_2**  \n",
    "3- Deberá comparar los resultados obtenidos con los anteriores y anotar cómo funciona mejor.   \n",
    "4- Finalmente con produccion_2 deberá etiquetar las 10 mil imágenes y guardar las etiquetas como *suApellido_2.npy*  \n",
    "\n",
    "Nota: Debe documentar su trabajo para luego poder explicarlo, no genere código sin explicaciones!"
   ]
  },
  {
   "cell_type": "code",
   "execution_count": null,
   "metadata": {},
   "outputs": [],
   "source": []
  },
  {
   "cell_type": "code",
   "execution_count": null,
   "metadata": {},
   "outputs": [],
   "source": []
  },
  {
   "cell_type": "code",
   "execution_count": null,
   "metadata": {},
   "outputs": [],
   "source": []
  },
  {
   "cell_type": "code",
   "execution_count": null,
   "metadata": {},
   "outputs": [],
   "source": []
  },
  {
   "cell_type": "code",
   "execution_count": null,
   "metadata": {},
   "outputs": [],
   "source": []
  },
  {
   "cell_type": "code",
   "execution_count": null,
   "metadata": {},
   "outputs": [],
   "source": []
  },
  {
   "cell_type": "code",
   "execution_count": null,
   "metadata": {},
   "outputs": [],
   "source": []
  },
  {
   "cell_type": "code",
   "execution_count": null,
   "metadata": {},
   "outputs": [],
   "source": []
  }
 ],
 "metadata": {
  "hide_input": false,
  "kernelspec": {
   "display_name": "Python 3",
   "language": "python",
   "name": "python3"
  },
  "language_info": {
   "codemirror_mode": {
    "name": "ipython",
    "version": 3
   },
   "file_extension": ".py",
   "mimetype": "text/x-python",
   "name": "python",
   "nbconvert_exporter": "python",
   "pygments_lexer": "ipython3",
   "version": "3.8.3"
  },
  "toc": {
   "base_numbering": 1,
   "nav_menu": {},
   "number_sections": true,
   "sideBar": true,
   "skip_h1_title": false,
   "title_cell": "Table of Contents",
   "title_sidebar": "Contents",
   "toc_cell": false,
   "toc_position": {},
   "toc_section_display": true,
   "toc_window_display": true
  },
  "varInspector": {
   "cols": {
    "lenName": 16,
    "lenType": 16,
    "lenVar": 40
   },
   "kernels_config": {
    "python": {
     "delete_cmd_postfix": "",
     "delete_cmd_prefix": "del ",
     "library": "var_list.py",
     "varRefreshCmd": "print(var_dic_list())"
    },
    "r": {
     "delete_cmd_postfix": ") ",
     "delete_cmd_prefix": "rm(",
     "library": "var_list.r",
     "varRefreshCmd": "cat(var_dic_list()) "
    }
   },
   "types_to_exclude": [
    "module",
    "function",
    "builtin_function_or_method",
    "instance",
    "_Feature"
   ],
   "window_display": false
  }
 },
 "nbformat": 4,
 "nbformat_minor": 4
}
