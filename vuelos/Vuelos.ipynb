{
 "cells": [
  {
   "cell_type": "markdown",
   "metadata": {},
   "source": [
    "# Importamos Librerias"
   ]
  },
  {
   "cell_type": "code",
   "execution_count": 1,
   "metadata": {},
   "outputs": [],
   "source": [
    "import pandas as pd\n",
    "import numpy as np"
   ]
  },
  {
   "cell_type": "code",
   "execution_count": 2,
   "metadata": {},
   "outputs": [],
   "source": [
    "import matplotlib.pyplot as plt\n",
    "import seaborn as sns"
   ]
  },
  {
   "cell_type": "markdown",
   "metadata": {},
   "source": [
    "# Cargamos la Data"
   ]
  },
  {
   "cell_type": "code",
   "execution_count": 3,
   "metadata": {},
   "outputs": [
    {
     "data": {
      "text/html": [
       "<div>\n",
       "<style scoped>\n",
       "    .dataframe tbody tr th:only-of-type {\n",
       "        vertical-align: middle;\n",
       "    }\n",
       "\n",
       "    .dataframe tbody tr th {\n",
       "        vertical-align: top;\n",
       "    }\n",
       "\n",
       "    .dataframe thead th {\n",
       "        text-align: right;\n",
       "    }\n",
       "</style>\n",
       "<table border=\"1\" class=\"dataframe\">\n",
       "  <thead>\n",
       "    <tr style=\"text-align: right;\">\n",
       "      <th></th>\n",
       "      <th>MONTH</th>\n",
       "      <th>DAY</th>\n",
       "      <th>WEEKDAY</th>\n",
       "      <th>AIRLINE</th>\n",
       "      <th>ORG_AIR</th>\n",
       "      <th>DEST_AIR</th>\n",
       "      <th>SCHED_DEP</th>\n",
       "      <th>DEP_DELAY</th>\n",
       "      <th>AIR_TIME</th>\n",
       "      <th>DIST</th>\n",
       "      <th>SCHED_ARR</th>\n",
       "      <th>ARR_DELAY</th>\n",
       "      <th>DIVERTED</th>\n",
       "      <th>CANCELLED</th>\n",
       "    </tr>\n",
       "  </thead>\n",
       "  <tbody>\n",
       "    <tr>\n",
       "      <th>0</th>\n",
       "      <td>1</td>\n",
       "      <td>1</td>\n",
       "      <td>4</td>\n",
       "      <td>WN</td>\n",
       "      <td>LAX</td>\n",
       "      <td>SLC</td>\n",
       "      <td>1625</td>\n",
       "      <td>58.0</td>\n",
       "      <td>94.0</td>\n",
       "      <td>590</td>\n",
       "      <td>1905</td>\n",
       "      <td>65.0</td>\n",
       "      <td>0</td>\n",
       "      <td>0</td>\n",
       "    </tr>\n",
       "    <tr>\n",
       "      <th>1</th>\n",
       "      <td>1</td>\n",
       "      <td>1</td>\n",
       "      <td>4</td>\n",
       "      <td>UA</td>\n",
       "      <td>DEN</td>\n",
       "      <td>IAD</td>\n",
       "      <td>823</td>\n",
       "      <td>7.0</td>\n",
       "      <td>154.0</td>\n",
       "      <td>1452</td>\n",
       "      <td>1333</td>\n",
       "      <td>-13.0</td>\n",
       "      <td>0</td>\n",
       "      <td>0</td>\n",
       "    </tr>\n",
       "    <tr>\n",
       "      <th>2</th>\n",
       "      <td>1</td>\n",
       "      <td>1</td>\n",
       "      <td>4</td>\n",
       "      <td>MQ</td>\n",
       "      <td>DFW</td>\n",
       "      <td>VPS</td>\n",
       "      <td>1305</td>\n",
       "      <td>36.0</td>\n",
       "      <td>85.0</td>\n",
       "      <td>641</td>\n",
       "      <td>1453</td>\n",
       "      <td>35.0</td>\n",
       "      <td>0</td>\n",
       "      <td>0</td>\n",
       "    </tr>\n",
       "    <tr>\n",
       "      <th>3</th>\n",
       "      <td>1</td>\n",
       "      <td>1</td>\n",
       "      <td>4</td>\n",
       "      <td>AA</td>\n",
       "      <td>DFW</td>\n",
       "      <td>DCA</td>\n",
       "      <td>1555</td>\n",
       "      <td>7.0</td>\n",
       "      <td>126.0</td>\n",
       "      <td>1192</td>\n",
       "      <td>1935</td>\n",
       "      <td>-7.0</td>\n",
       "      <td>0</td>\n",
       "      <td>0</td>\n",
       "    </tr>\n",
       "    <tr>\n",
       "      <th>4</th>\n",
       "      <td>1</td>\n",
       "      <td>1</td>\n",
       "      <td>4</td>\n",
       "      <td>WN</td>\n",
       "      <td>LAX</td>\n",
       "      <td>MCI</td>\n",
       "      <td>1720</td>\n",
       "      <td>48.0</td>\n",
       "      <td>166.0</td>\n",
       "      <td>1363</td>\n",
       "      <td>2225</td>\n",
       "      <td>39.0</td>\n",
       "      <td>0</td>\n",
       "      <td>0</td>\n",
       "    </tr>\n",
       "    <tr>\n",
       "      <th>...</th>\n",
       "      <td>...</td>\n",
       "      <td>...</td>\n",
       "      <td>...</td>\n",
       "      <td>...</td>\n",
       "      <td>...</td>\n",
       "      <td>...</td>\n",
       "      <td>...</td>\n",
       "      <td>...</td>\n",
       "      <td>...</td>\n",
       "      <td>...</td>\n",
       "      <td>...</td>\n",
       "      <td>...</td>\n",
       "      <td>...</td>\n",
       "      <td>...</td>\n",
       "    </tr>\n",
       "    <tr>\n",
       "      <th>58487</th>\n",
       "      <td>12</td>\n",
       "      <td>31</td>\n",
       "      <td>4</td>\n",
       "      <td>AA</td>\n",
       "      <td>SFO</td>\n",
       "      <td>DFW</td>\n",
       "      <td>515</td>\n",
       "      <td>5.0</td>\n",
       "      <td>166.0</td>\n",
       "      <td>1464</td>\n",
       "      <td>1045</td>\n",
       "      <td>-19.0</td>\n",
       "      <td>0</td>\n",
       "      <td>0</td>\n",
       "    </tr>\n",
       "    <tr>\n",
       "      <th>58488</th>\n",
       "      <td>12</td>\n",
       "      <td>31</td>\n",
       "      <td>4</td>\n",
       "      <td>F9</td>\n",
       "      <td>LAS</td>\n",
       "      <td>SFO</td>\n",
       "      <td>1910</td>\n",
       "      <td>13.0</td>\n",
       "      <td>71.0</td>\n",
       "      <td>414</td>\n",
       "      <td>2050</td>\n",
       "      <td>4.0</td>\n",
       "      <td>0</td>\n",
       "      <td>0</td>\n",
       "    </tr>\n",
       "    <tr>\n",
       "      <th>58489</th>\n",
       "      <td>12</td>\n",
       "      <td>31</td>\n",
       "      <td>4</td>\n",
       "      <td>OO</td>\n",
       "      <td>SFO</td>\n",
       "      <td>SBA</td>\n",
       "      <td>1846</td>\n",
       "      <td>-6.0</td>\n",
       "      <td>46.0</td>\n",
       "      <td>262</td>\n",
       "      <td>1956</td>\n",
       "      <td>-5.0</td>\n",
       "      <td>0</td>\n",
       "      <td>0</td>\n",
       "    </tr>\n",
       "    <tr>\n",
       "      <th>58490</th>\n",
       "      <td>12</td>\n",
       "      <td>31</td>\n",
       "      <td>4</td>\n",
       "      <td>WN</td>\n",
       "      <td>MSP</td>\n",
       "      <td>ATL</td>\n",
       "      <td>525</td>\n",
       "      <td>39.0</td>\n",
       "      <td>124.0</td>\n",
       "      <td>907</td>\n",
       "      <td>855</td>\n",
       "      <td>34.0</td>\n",
       "      <td>0</td>\n",
       "      <td>0</td>\n",
       "    </tr>\n",
       "    <tr>\n",
       "      <th>58491</th>\n",
       "      <td>12</td>\n",
       "      <td>31</td>\n",
       "      <td>4</td>\n",
       "      <td>OO</td>\n",
       "      <td>SFO</td>\n",
       "      <td>BOI</td>\n",
       "      <td>859</td>\n",
       "      <td>5.0</td>\n",
       "      <td>73.0</td>\n",
       "      <td>522</td>\n",
       "      <td>1146</td>\n",
       "      <td>-1.0</td>\n",
       "      <td>0</td>\n",
       "      <td>0</td>\n",
       "    </tr>\n",
       "  </tbody>\n",
       "</table>\n",
       "<p>58492 rows × 14 columns</p>\n",
       "</div>"
      ],
      "text/plain": [
       "       MONTH  DAY  WEEKDAY AIRLINE ORG_AIR DEST_AIR  SCHED_DEP  DEP_DELAY  \\\n",
       "0          1    1        4      WN     LAX      SLC       1625       58.0   \n",
       "1          1    1        4      UA     DEN      IAD        823        7.0   \n",
       "2          1    1        4      MQ     DFW      VPS       1305       36.0   \n",
       "3          1    1        4      AA     DFW      DCA       1555        7.0   \n",
       "4          1    1        4      WN     LAX      MCI       1720       48.0   \n",
       "...      ...  ...      ...     ...     ...      ...        ...        ...   \n",
       "58487     12   31        4      AA     SFO      DFW        515        5.0   \n",
       "58488     12   31        4      F9     LAS      SFO       1910       13.0   \n",
       "58489     12   31        4      OO     SFO      SBA       1846       -6.0   \n",
       "58490     12   31        4      WN     MSP      ATL        525       39.0   \n",
       "58491     12   31        4      OO     SFO      BOI        859        5.0   \n",
       "\n",
       "       AIR_TIME  DIST  SCHED_ARR  ARR_DELAY  DIVERTED  CANCELLED  \n",
       "0          94.0   590       1905       65.0         0          0  \n",
       "1         154.0  1452       1333      -13.0         0          0  \n",
       "2          85.0   641       1453       35.0         0          0  \n",
       "3         126.0  1192       1935       -7.0         0          0  \n",
       "4         166.0  1363       2225       39.0         0          0  \n",
       "...         ...   ...        ...        ...       ...        ...  \n",
       "58487     166.0  1464       1045      -19.0         0          0  \n",
       "58488      71.0   414       2050        4.0         0          0  \n",
       "58489      46.0   262       1956       -5.0         0          0  \n",
       "58490     124.0   907        855       34.0         0          0  \n",
       "58491      73.0   522       1146       -1.0         0          0  \n",
       "\n",
       "[58492 rows x 14 columns]"
      ]
     },
     "execution_count": 3,
     "metadata": {},
     "output_type": "execute_result"
    }
   ],
   "source": [
    "data=pd.read_csv('flights.csv', sep=',')\n",
    "data"
   ]
  },
  {
   "cell_type": "markdown",
   "metadata": {},
   "source": [
    "## Algo de informacion sobre la data"
   ]
  },
  {
   "cell_type": "code",
   "execution_count": 4,
   "metadata": {},
   "outputs": [
    {
     "data": {
      "text/plain": [
       "(58492, 14)"
      ]
     },
     "execution_count": 4,
     "metadata": {},
     "output_type": "execute_result"
    }
   ],
   "source": [
    "#Que tamaño tiene?\n",
    "data.shape"
   ]
  },
  {
   "cell_type": "code",
   "execution_count": 5,
   "metadata": {},
   "outputs": [
    {
     "name": "stdout",
     "output_type": "stream",
     "text": [
      "<class 'pandas.core.frame.DataFrame'>\n",
      "RangeIndex: 58492 entries, 0 to 58491\n",
      "Data columns (total 14 columns):\n",
      " #   Column     Non-Null Count  Dtype  \n",
      "---  ------     --------------  -----  \n",
      " 0   MONTH      58492 non-null  int64  \n",
      " 1   DAY        58492 non-null  int64  \n",
      " 2   WEEKDAY    58492 non-null  int64  \n",
      " 3   AIRLINE    58492 non-null  object \n",
      " 4   ORG_AIR    58492 non-null  object \n",
      " 5   DEST_AIR   58492 non-null  object \n",
      " 6   SCHED_DEP  58492 non-null  int64  \n",
      " 7   DEP_DELAY  57659 non-null  float64\n",
      " 8   AIR_TIME   57474 non-null  float64\n",
      " 9   DIST       58492 non-null  int64  \n",
      " 10  SCHED_ARR  58492 non-null  int64  \n",
      " 11  ARR_DELAY  57474 non-null  float64\n",
      " 12  DIVERTED   58492 non-null  int64  \n",
      " 13  CANCELLED  58492 non-null  int64  \n",
      "dtypes: float64(3), int64(8), object(3)\n",
      "memory usage: 6.2+ MB\n"
     ]
    }
   ],
   "source": [
    "#Tipo de dato y si su totalidad es nula\n",
    "data.info()"
   ]
  },
  {
   "cell_type": "code",
   "execution_count": 6,
   "metadata": {},
   "outputs": [
    {
     "data": {
      "text/html": [
       "<div>\n",
       "<style scoped>\n",
       "    .dataframe tbody tr th:only-of-type {\n",
       "        vertical-align: middle;\n",
       "    }\n",
       "\n",
       "    .dataframe tbody tr th {\n",
       "        vertical-align: top;\n",
       "    }\n",
       "\n",
       "    .dataframe thead th {\n",
       "        text-align: right;\n",
       "    }\n",
       "</style>\n",
       "<table border=\"1\" class=\"dataframe\">\n",
       "  <thead>\n",
       "    <tr style=\"text-align: right;\">\n",
       "      <th></th>\n",
       "      <th>MONTH</th>\n",
       "      <th>DAY</th>\n",
       "      <th>WEEKDAY</th>\n",
       "      <th>SCHED_DEP</th>\n",
       "      <th>DEP_DELAY</th>\n",
       "      <th>AIR_TIME</th>\n",
       "      <th>DIST</th>\n",
       "      <th>SCHED_ARR</th>\n",
       "      <th>ARR_DELAY</th>\n",
       "      <th>DIVERTED</th>\n",
       "      <th>CANCELLED</th>\n",
       "    </tr>\n",
       "  </thead>\n",
       "  <tbody>\n",
       "    <tr>\n",
       "      <th>count</th>\n",
       "      <td>58492.000000</td>\n",
       "      <td>58492.000000</td>\n",
       "      <td>58492.000000</td>\n",
       "      <td>58492.000000</td>\n",
       "      <td>57659.000000</td>\n",
       "      <td>57474.000000</td>\n",
       "      <td>58492.000000</td>\n",
       "      <td>58492.000000</td>\n",
       "      <td>57474.000000</td>\n",
       "      <td>58492.000000</td>\n",
       "      <td>58492.000000</td>\n",
       "    </tr>\n",
       "    <tr>\n",
       "      <th>mean</th>\n",
       "      <td>6.220646</td>\n",
       "      <td>15.702096</td>\n",
       "      <td>3.926862</td>\n",
       "      <td>1387.984836</td>\n",
       "      <td>10.921192</td>\n",
       "      <td>115.928576</td>\n",
       "      <td>872.900072</td>\n",
       "      <td>1549.399832</td>\n",
       "      <td>5.812315</td>\n",
       "      <td>0.002342</td>\n",
       "      <td>0.015062</td>\n",
       "    </tr>\n",
       "    <tr>\n",
       "      <th>std</th>\n",
       "      <td>3.358484</td>\n",
       "      <td>8.760846</td>\n",
       "      <td>1.995777</td>\n",
       "      <td>482.810792</td>\n",
       "      <td>36.146210</td>\n",
       "      <td>71.679591</td>\n",
       "      <td>624.996805</td>\n",
       "      <td>518.599952</td>\n",
       "      <td>38.411948</td>\n",
       "      <td>0.048340</td>\n",
       "      <td>0.121800</td>\n",
       "    </tr>\n",
       "    <tr>\n",
       "      <th>min</th>\n",
       "      <td>1.000000</td>\n",
       "      <td>1.000000</td>\n",
       "      <td>1.000000</td>\n",
       "      <td>5.000000</td>\n",
       "      <td>-24.000000</td>\n",
       "      <td>8.000000</td>\n",
       "      <td>67.000000</td>\n",
       "      <td>1.000000</td>\n",
       "      <td>-60.000000</td>\n",
       "      <td>0.000000</td>\n",
       "      <td>0.000000</td>\n",
       "    </tr>\n",
       "    <tr>\n",
       "      <th>25%</th>\n",
       "      <td>3.000000</td>\n",
       "      <td>8.000000</td>\n",
       "      <td>2.000000</td>\n",
       "      <td>1000.000000</td>\n",
       "      <td>-4.000000</td>\n",
       "      <td>61.000000</td>\n",
       "      <td>391.000000</td>\n",
       "      <td>1159.000000</td>\n",
       "      <td>-12.000000</td>\n",
       "      <td>0.000000</td>\n",
       "      <td>0.000000</td>\n",
       "    </tr>\n",
       "    <tr>\n",
       "      <th>50%</th>\n",
       "      <td>6.000000</td>\n",
       "      <td>16.000000</td>\n",
       "      <td>4.000000</td>\n",
       "      <td>1353.000000</td>\n",
       "      <td>-1.000000</td>\n",
       "      <td>97.000000</td>\n",
       "      <td>690.000000</td>\n",
       "      <td>1603.000000</td>\n",
       "      <td>-4.000000</td>\n",
       "      <td>0.000000</td>\n",
       "      <td>0.000000</td>\n",
       "    </tr>\n",
       "    <tr>\n",
       "      <th>75%</th>\n",
       "      <td>9.000000</td>\n",
       "      <td>23.000000</td>\n",
       "      <td>6.000000</td>\n",
       "      <td>1805.000000</td>\n",
       "      <td>10.000000</td>\n",
       "      <td>152.000000</td>\n",
       "      <td>1199.000000</td>\n",
       "      <td>1959.000000</td>\n",
       "      <td>9.000000</td>\n",
       "      <td>0.000000</td>\n",
       "      <td>0.000000</td>\n",
       "    </tr>\n",
       "    <tr>\n",
       "      <th>max</th>\n",
       "      <td>12.000000</td>\n",
       "      <td>31.000000</td>\n",
       "      <td>7.000000</td>\n",
       "      <td>2359.000000</td>\n",
       "      <td>1194.000000</td>\n",
       "      <td>577.000000</td>\n",
       "      <td>4502.000000</td>\n",
       "      <td>2359.000000</td>\n",
       "      <td>1185.000000</td>\n",
       "      <td>1.000000</td>\n",
       "      <td>1.000000</td>\n",
       "    </tr>\n",
       "  </tbody>\n",
       "</table>\n",
       "</div>"
      ],
      "text/plain": [
       "              MONTH           DAY       WEEKDAY     SCHED_DEP     DEP_DELAY  \\\n",
       "count  58492.000000  58492.000000  58492.000000  58492.000000  57659.000000   \n",
       "mean       6.220646     15.702096      3.926862   1387.984836     10.921192   \n",
       "std        3.358484      8.760846      1.995777    482.810792     36.146210   \n",
       "min        1.000000      1.000000      1.000000      5.000000    -24.000000   \n",
       "25%        3.000000      8.000000      2.000000   1000.000000     -4.000000   \n",
       "50%        6.000000     16.000000      4.000000   1353.000000     -1.000000   \n",
       "75%        9.000000     23.000000      6.000000   1805.000000     10.000000   \n",
       "max       12.000000     31.000000      7.000000   2359.000000   1194.000000   \n",
       "\n",
       "           AIR_TIME          DIST     SCHED_ARR     ARR_DELAY      DIVERTED  \\\n",
       "count  57474.000000  58492.000000  58492.000000  57474.000000  58492.000000   \n",
       "mean     115.928576    872.900072   1549.399832      5.812315      0.002342   \n",
       "std       71.679591    624.996805    518.599952     38.411948      0.048340   \n",
       "min        8.000000     67.000000      1.000000    -60.000000      0.000000   \n",
       "25%       61.000000    391.000000   1159.000000    -12.000000      0.000000   \n",
       "50%       97.000000    690.000000   1603.000000     -4.000000      0.000000   \n",
       "75%      152.000000   1199.000000   1959.000000      9.000000      0.000000   \n",
       "max      577.000000   4502.000000   2359.000000   1185.000000      1.000000   \n",
       "\n",
       "          CANCELLED  \n",
       "count  58492.000000  \n",
       "mean       0.015062  \n",
       "std        0.121800  \n",
       "min        0.000000  \n",
       "25%        0.000000  \n",
       "50%        0.000000  \n",
       "75%        0.000000  \n",
       "max        1.000000  "
      ]
     },
     "execution_count": 6,
     "metadata": {},
     "output_type": "execute_result"
    }
   ],
   "source": [
    "#Descripcion de valores numericos\n",
    "data.describe()"
   ]
  },
  {
   "cell_type": "code",
   "execution_count": 7,
   "metadata": {},
   "outputs": [
    {
     "data": {
      "text/html": [
       "<div>\n",
       "<style scoped>\n",
       "    .dataframe tbody tr th:only-of-type {\n",
       "        vertical-align: middle;\n",
       "    }\n",
       "\n",
       "    .dataframe tbody tr th {\n",
       "        vertical-align: top;\n",
       "    }\n",
       "\n",
       "    .dataframe thead th {\n",
       "        text-align: right;\n",
       "    }\n",
       "</style>\n",
       "<table border=\"1\" class=\"dataframe\">\n",
       "  <thead>\n",
       "    <tr style=\"text-align: right;\">\n",
       "      <th></th>\n",
       "      <th>MONTH</th>\n",
       "      <th>DAY</th>\n",
       "      <th>WEEKDAY</th>\n",
       "      <th>AIRLINE</th>\n",
       "      <th>ORG_AIR</th>\n",
       "      <th>DEST_AIR</th>\n",
       "      <th>SCHED_DEP</th>\n",
       "      <th>DEP_DELAY</th>\n",
       "      <th>AIR_TIME</th>\n",
       "      <th>DIST</th>\n",
       "      <th>SCHED_ARR</th>\n",
       "      <th>ARR_DELAY</th>\n",
       "      <th>DIVERTED</th>\n",
       "      <th>CANCELLED</th>\n",
       "    </tr>\n",
       "  </thead>\n",
       "  <tbody>\n",
       "    <tr>\n",
       "      <th>0</th>\n",
       "      <td>1</td>\n",
       "      <td>1</td>\n",
       "      <td>4</td>\n",
       "      <td>WN</td>\n",
       "      <td>LAX</td>\n",
       "      <td>SLC</td>\n",
       "      <td>1625</td>\n",
       "      <td>58.0</td>\n",
       "      <td>94.0</td>\n",
       "      <td>590</td>\n",
       "      <td>1905</td>\n",
       "      <td>65.0</td>\n",
       "      <td>0</td>\n",
       "      <td>0</td>\n",
       "    </tr>\n",
       "    <tr>\n",
       "      <th>1</th>\n",
       "      <td>1</td>\n",
       "      <td>1</td>\n",
       "      <td>4</td>\n",
       "      <td>UA</td>\n",
       "      <td>DEN</td>\n",
       "      <td>IAD</td>\n",
       "      <td>823</td>\n",
       "      <td>7.0</td>\n",
       "      <td>154.0</td>\n",
       "      <td>1452</td>\n",
       "      <td>1333</td>\n",
       "      <td>-13.0</td>\n",
       "      <td>0</td>\n",
       "      <td>0</td>\n",
       "    </tr>\n",
       "    <tr>\n",
       "      <th>2</th>\n",
       "      <td>1</td>\n",
       "      <td>1</td>\n",
       "      <td>4</td>\n",
       "      <td>MQ</td>\n",
       "      <td>DFW</td>\n",
       "      <td>VPS</td>\n",
       "      <td>1305</td>\n",
       "      <td>36.0</td>\n",
       "      <td>85.0</td>\n",
       "      <td>641</td>\n",
       "      <td>1453</td>\n",
       "      <td>35.0</td>\n",
       "      <td>0</td>\n",
       "      <td>0</td>\n",
       "    </tr>\n",
       "    <tr>\n",
       "      <th>3</th>\n",
       "      <td>1</td>\n",
       "      <td>1</td>\n",
       "      <td>4</td>\n",
       "      <td>AA</td>\n",
       "      <td>DFW</td>\n",
       "      <td>DCA</td>\n",
       "      <td>1555</td>\n",
       "      <td>7.0</td>\n",
       "      <td>126.0</td>\n",
       "      <td>1192</td>\n",
       "      <td>1935</td>\n",
       "      <td>-7.0</td>\n",
       "      <td>0</td>\n",
       "      <td>0</td>\n",
       "    </tr>\n",
       "    <tr>\n",
       "      <th>4</th>\n",
       "      <td>1</td>\n",
       "      <td>1</td>\n",
       "      <td>4</td>\n",
       "      <td>WN</td>\n",
       "      <td>LAX</td>\n",
       "      <td>MCI</td>\n",
       "      <td>1720</td>\n",
       "      <td>48.0</td>\n",
       "      <td>166.0</td>\n",
       "      <td>1363</td>\n",
       "      <td>2225</td>\n",
       "      <td>39.0</td>\n",
       "      <td>0</td>\n",
       "      <td>0</td>\n",
       "    </tr>\n",
       "    <tr>\n",
       "      <th>...</th>\n",
       "      <td>...</td>\n",
       "      <td>...</td>\n",
       "      <td>...</td>\n",
       "      <td>...</td>\n",
       "      <td>...</td>\n",
       "      <td>...</td>\n",
       "      <td>...</td>\n",
       "      <td>...</td>\n",
       "      <td>...</td>\n",
       "      <td>...</td>\n",
       "      <td>...</td>\n",
       "      <td>...</td>\n",
       "      <td>...</td>\n",
       "      <td>...</td>\n",
       "    </tr>\n",
       "    <tr>\n",
       "      <th>58487</th>\n",
       "      <td>12</td>\n",
       "      <td>31</td>\n",
       "      <td>4</td>\n",
       "      <td>AA</td>\n",
       "      <td>SFO</td>\n",
       "      <td>DFW</td>\n",
       "      <td>515</td>\n",
       "      <td>5.0</td>\n",
       "      <td>166.0</td>\n",
       "      <td>1464</td>\n",
       "      <td>1045</td>\n",
       "      <td>-19.0</td>\n",
       "      <td>0</td>\n",
       "      <td>0</td>\n",
       "    </tr>\n",
       "    <tr>\n",
       "      <th>58488</th>\n",
       "      <td>12</td>\n",
       "      <td>31</td>\n",
       "      <td>4</td>\n",
       "      <td>F9</td>\n",
       "      <td>LAS</td>\n",
       "      <td>SFO</td>\n",
       "      <td>1910</td>\n",
       "      <td>13.0</td>\n",
       "      <td>71.0</td>\n",
       "      <td>414</td>\n",
       "      <td>2050</td>\n",
       "      <td>4.0</td>\n",
       "      <td>0</td>\n",
       "      <td>0</td>\n",
       "    </tr>\n",
       "    <tr>\n",
       "      <th>58489</th>\n",
       "      <td>12</td>\n",
       "      <td>31</td>\n",
       "      <td>4</td>\n",
       "      <td>OO</td>\n",
       "      <td>SFO</td>\n",
       "      <td>SBA</td>\n",
       "      <td>1846</td>\n",
       "      <td>-6.0</td>\n",
       "      <td>46.0</td>\n",
       "      <td>262</td>\n",
       "      <td>1956</td>\n",
       "      <td>-5.0</td>\n",
       "      <td>0</td>\n",
       "      <td>0</td>\n",
       "    </tr>\n",
       "    <tr>\n",
       "      <th>58490</th>\n",
       "      <td>12</td>\n",
       "      <td>31</td>\n",
       "      <td>4</td>\n",
       "      <td>WN</td>\n",
       "      <td>MSP</td>\n",
       "      <td>ATL</td>\n",
       "      <td>525</td>\n",
       "      <td>39.0</td>\n",
       "      <td>124.0</td>\n",
       "      <td>907</td>\n",
       "      <td>855</td>\n",
       "      <td>34.0</td>\n",
       "      <td>0</td>\n",
       "      <td>0</td>\n",
       "    </tr>\n",
       "    <tr>\n",
       "      <th>58491</th>\n",
       "      <td>12</td>\n",
       "      <td>31</td>\n",
       "      <td>4</td>\n",
       "      <td>OO</td>\n",
       "      <td>SFO</td>\n",
       "      <td>BOI</td>\n",
       "      <td>859</td>\n",
       "      <td>5.0</td>\n",
       "      <td>73.0</td>\n",
       "      <td>522</td>\n",
       "      <td>1146</td>\n",
       "      <td>-1.0</td>\n",
       "      <td>0</td>\n",
       "      <td>0</td>\n",
       "    </tr>\n",
       "  </tbody>\n",
       "</table>\n",
       "<p>57474 rows × 14 columns</p>\n",
       "</div>"
      ],
      "text/plain": [
       "       MONTH  DAY  WEEKDAY AIRLINE ORG_AIR DEST_AIR  SCHED_DEP  DEP_DELAY  \\\n",
       "0          1    1        4      WN     LAX      SLC       1625       58.0   \n",
       "1          1    1        4      UA     DEN      IAD        823        7.0   \n",
       "2          1    1        4      MQ     DFW      VPS       1305       36.0   \n",
       "3          1    1        4      AA     DFW      DCA       1555        7.0   \n",
       "4          1    1        4      WN     LAX      MCI       1720       48.0   \n",
       "...      ...  ...      ...     ...     ...      ...        ...        ...   \n",
       "58487     12   31        4      AA     SFO      DFW        515        5.0   \n",
       "58488     12   31        4      F9     LAS      SFO       1910       13.0   \n",
       "58489     12   31        4      OO     SFO      SBA       1846       -6.0   \n",
       "58490     12   31        4      WN     MSP      ATL        525       39.0   \n",
       "58491     12   31        4      OO     SFO      BOI        859        5.0   \n",
       "\n",
       "       AIR_TIME  DIST  SCHED_ARR  ARR_DELAY  DIVERTED  CANCELLED  \n",
       "0          94.0   590       1905       65.0         0          0  \n",
       "1         154.0  1452       1333      -13.0         0          0  \n",
       "2          85.0   641       1453       35.0         0          0  \n",
       "3         126.0  1192       1935       -7.0         0          0  \n",
       "4         166.0  1363       2225       39.0         0          0  \n",
       "...         ...   ...        ...        ...       ...        ...  \n",
       "58487     166.0  1464       1045      -19.0         0          0  \n",
       "58488      71.0   414       2050        4.0         0          0  \n",
       "58489      46.0   262       1956       -5.0         0          0  \n",
       "58490     124.0   907        855       34.0         0          0  \n",
       "58491      73.0   522       1146       -1.0         0          0  \n",
       "\n",
       "[57474 rows x 14 columns]"
      ]
     },
     "execution_count": 7,
     "metadata": {},
     "output_type": "execute_result"
    }
   ],
   "source": [
    "#Elimino los valos NAN\n",
    "data.dropna()"
   ]
  },
  {
   "cell_type": "code",
   "execution_count": 8,
   "metadata": {},
   "outputs": [
    {
     "data": {
      "text/plain": [
       "MONTH           0\n",
       "DAY             0\n",
       "WEEKDAY         0\n",
       "AIRLINE         0\n",
       "ORG_AIR         0\n",
       "DEST_AIR        0\n",
       "SCHED_DEP       0\n",
       "DEP_DELAY     833\n",
       "AIR_TIME     1018\n",
       "DIST            0\n",
       "SCHED_ARR       0\n",
       "ARR_DELAY    1018\n",
       "DIVERTED        0\n",
       "CANCELLED       0\n",
       "dtype: int64"
      ]
     },
     "execution_count": 8,
     "metadata": {},
     "output_type": "execute_result"
    }
   ],
   "source": [
    "#Cuantos valores nulos tenemos?\n",
    "np.sum(data.isnull())"
   ]
  },
  {
   "cell_type": "code",
   "execution_count": 9,
   "metadata": {},
   "outputs": [
    {
     "data": {
      "text/plain": [
       "array(['WN', 'UA', 'MQ', 'AA', 'F9', 'EV', 'OO', 'NK', 'US', 'AS', 'DL',\n",
       "       'VX', 'B6', 'HA'], dtype=object)"
      ]
     },
     "execution_count": 9,
     "metadata": {},
     "output_type": "execute_result"
    }
   ],
   "source": [
    "#Cuales aerolineas operan?\n",
    "data.AIRLINE.unique()"
   ]
  },
  {
   "cell_type": "code",
   "execution_count": 10,
   "metadata": {},
   "outputs": [
    {
     "data": {
      "text/plain": [
       "14"
      ]
     },
     "execution_count": 10,
     "metadata": {},
     "output_type": "execute_result"
    }
   ],
   "source": [
    "#Cuantas son?\n",
    "len(data.AIRLINE.unique())"
   ]
  },
  {
   "cell_type": "code",
   "execution_count": 11,
   "metadata": {},
   "outputs": [
    {
     "data": {
      "text/plain": [
       "AIRLINE\n",
       "AA     8900\n",
       "AS      768\n",
       "B6      543\n",
       "DL    10601\n",
       "EV     5858\n",
       "F9     1317\n",
       "HA      112\n",
       "MQ     3471\n",
       "NK     1516\n",
       "OO     6588\n",
       "UA     7792\n",
       "US     1615\n",
       "VX      993\n",
       "WN     8418\n",
       "Name: DAY, dtype: int64"
      ]
     },
     "execution_count": 11,
     "metadata": {},
     "output_type": "execute_result"
    }
   ],
   "source": [
    "#Cuantos vuelos hay de cada Aerolinea?\n",
    "data.groupby('AIRLINE').count().DAY"
   ]
  },
  {
   "cell_type": "markdown",
   "metadata": {},
   "source": [
    "## Nos metemos un poco mas dentro para encontrar cosas relevantes del Dataset"
   ]
  },
  {
   "cell_type": "code",
   "execution_count": 12,
   "metadata": {},
   "outputs": [
    {
     "data": {
      "text/plain": [
       "0    57611\n",
       "1      881\n",
       "Name: CANCELLED, dtype: int64"
      ]
     },
     "execution_count": 12,
     "metadata": {},
     "output_type": "execute_result"
    }
   ],
   "source": [
    "#Cuantos son los vuelos cancelados? 1 = Cancelado\n",
    "data.CANCELLED.value_counts()"
   ]
  },
  {
   "cell_type": "code",
   "execution_count": 13,
   "metadata": {},
   "outputs": [
    {
     "name": "stdout",
     "output_type": "stream",
     "text": [
      "el porcentaje de cancelados sobre el total es de =  1.51 %\n"
     ]
    }
   ],
   "source": [
    "#Que porcentaje de cancelacion existe?\n",
    "no_canc= data.CANCELLED.value_counts()[0]\n",
    "canc= data.CANCELLED.value_counts()[1]\n",
    "total=data.shape[0]\n",
    "porc_canc= print('el porcentaje de cancelados sobre el total es de = ', round(canc*100/total, 2),'%')"
   ]
  },
  {
   "cell_type": "markdown",
   "metadata": {},
   "source": [
    "### Algo interesante de cruzar columnas para generar una nueva es encontrar informacion util"
   ]
  },
  {
   "cell_type": "code",
   "execution_count": 14,
   "metadata": {},
   "outputs": [
    {
     "data": {
      "text/html": [
       "<div>\n",
       "<style scoped>\n",
       "    .dataframe tbody tr th:only-of-type {\n",
       "        vertical-align: middle;\n",
       "    }\n",
       "\n",
       "    .dataframe tbody tr th {\n",
       "        vertical-align: top;\n",
       "    }\n",
       "\n",
       "    .dataframe thead th {\n",
       "        text-align: right;\n",
       "    }\n",
       "</style>\n",
       "<table border=\"1\" class=\"dataframe\">\n",
       "  <thead>\n",
       "    <tr style=\"text-align: right;\">\n",
       "      <th></th>\n",
       "      <th>MONTH</th>\n",
       "      <th>DAY</th>\n",
       "      <th>WEEKDAY</th>\n",
       "      <th>AIRLINE</th>\n",
       "      <th>ORG_AIR</th>\n",
       "      <th>DEST_AIR</th>\n",
       "      <th>SCHED_DEP</th>\n",
       "      <th>DEP_DELAY</th>\n",
       "      <th>AIR_TIME</th>\n",
       "      <th>DIST</th>\n",
       "      <th>SCHED_ARR</th>\n",
       "      <th>ARR_DELAY</th>\n",
       "      <th>DIVERTED</th>\n",
       "      <th>CANCELLED</th>\n",
       "      <th>Velocidad</th>\n",
       "    </tr>\n",
       "  </thead>\n",
       "  <tbody>\n",
       "    <tr>\n",
       "      <th>0</th>\n",
       "      <td>1</td>\n",
       "      <td>1</td>\n",
       "      <td>4</td>\n",
       "      <td>WN</td>\n",
       "      <td>LAX</td>\n",
       "      <td>SLC</td>\n",
       "      <td>1625</td>\n",
       "      <td>58.0</td>\n",
       "      <td>94.0</td>\n",
       "      <td>590</td>\n",
       "      <td>1905</td>\n",
       "      <td>65.0</td>\n",
       "      <td>0</td>\n",
       "      <td>0</td>\n",
       "      <td>606.070596</td>\n",
       "    </tr>\n",
       "    <tr>\n",
       "      <th>1</th>\n",
       "      <td>1</td>\n",
       "      <td>1</td>\n",
       "      <td>4</td>\n",
       "      <td>UA</td>\n",
       "      <td>DEN</td>\n",
       "      <td>IAD</td>\n",
       "      <td>823</td>\n",
       "      <td>7.0</td>\n",
       "      <td>154.0</td>\n",
       "      <td>1452</td>\n",
       "      <td>1333</td>\n",
       "      <td>-13.0</td>\n",
       "      <td>0</td>\n",
       "      <td>0</td>\n",
       "      <td>910.426629</td>\n",
       "    </tr>\n",
       "    <tr>\n",
       "      <th>2</th>\n",
       "      <td>1</td>\n",
       "      <td>1</td>\n",
       "      <td>4</td>\n",
       "      <td>MQ</td>\n",
       "      <td>DFW</td>\n",
       "      <td>VPS</td>\n",
       "      <td>1305</td>\n",
       "      <td>36.0</td>\n",
       "      <td>85.0</td>\n",
       "      <td>641</td>\n",
       "      <td>1453</td>\n",
       "      <td>35.0</td>\n",
       "      <td>0</td>\n",
       "      <td>0</td>\n",
       "      <td>728.179016</td>\n",
       "    </tr>\n",
       "    <tr>\n",
       "      <th>3</th>\n",
       "      <td>1</td>\n",
       "      <td>1</td>\n",
       "      <td>4</td>\n",
       "      <td>AA</td>\n",
       "      <td>DFW</td>\n",
       "      <td>DCA</td>\n",
       "      <td>1555</td>\n",
       "      <td>7.0</td>\n",
       "      <td>126.0</td>\n",
       "      <td>1192</td>\n",
       "      <td>1935</td>\n",
       "      <td>-7.0</td>\n",
       "      <td>0</td>\n",
       "      <td>0</td>\n",
       "      <td>913.492038</td>\n",
       "    </tr>\n",
       "    <tr>\n",
       "      <th>4</th>\n",
       "      <td>1</td>\n",
       "      <td>1</td>\n",
       "      <td>4</td>\n",
       "      <td>WN</td>\n",
       "      <td>LAX</td>\n",
       "      <td>MCI</td>\n",
       "      <td>1720</td>\n",
       "      <td>48.0</td>\n",
       "      <td>166.0</td>\n",
       "      <td>1363</td>\n",
       "      <td>2225</td>\n",
       "      <td>39.0</td>\n",
       "      <td>0</td>\n",
       "      <td>0</td>\n",
       "      <td>792.842320</td>\n",
       "    </tr>\n",
       "  </tbody>\n",
       "</table>\n",
       "</div>"
      ],
      "text/plain": [
       "   MONTH  DAY  WEEKDAY AIRLINE ORG_AIR DEST_AIR  SCHED_DEP  DEP_DELAY  \\\n",
       "0      1    1        4      WN     LAX      SLC       1625       58.0   \n",
       "1      1    1        4      UA     DEN      IAD        823        7.0   \n",
       "2      1    1        4      MQ     DFW      VPS       1305       36.0   \n",
       "3      1    1        4      AA     DFW      DCA       1555        7.0   \n",
       "4      1    1        4      WN     LAX      MCI       1720       48.0   \n",
       "\n",
       "   AIR_TIME  DIST  SCHED_ARR  ARR_DELAY  DIVERTED  CANCELLED   Velocidad  \n",
       "0      94.0   590       1905       65.0         0          0  606.070596  \n",
       "1     154.0  1452       1333      -13.0         0          0  910.426629  \n",
       "2      85.0   641       1453       35.0         0          0  728.179016  \n",
       "3     126.0  1192       1935       -7.0         0          0  913.492038  \n",
       "4     166.0  1363       2225       39.0         0          0  792.842320  "
      ]
     },
     "execution_count": 14,
     "metadata": {},
     "output_type": "execute_result"
    }
   ],
   "source": [
    "#Creamos una columna de velocidad, pasando los datos a Km/H\n",
    "mtok= 1.60934\n",
    "data['Velocidad']= (data['DIST']* mtok) / (data['AIR_TIME']/60)\n",
    "data.head()"
   ]
  },
  {
   "cell_type": "code",
   "execution_count": 15,
   "metadata": {},
   "outputs": [
    {
     "data": {
      "text/plain": [
       "AIRLINE\n",
       "AA    719.850000\n",
       "AS    691.600496\n",
       "B6    771.713731\n",
       "DL    688.825724\n",
       "EV    614.160440\n",
       "F9    726.263310\n",
       "HA    748.373791\n",
       "MQ    606.219442\n",
       "NK    724.795244\n",
       "OO    606.034713\n",
       "UA    737.459528\n",
       "US    734.802833\n",
       "VX    704.020018\n",
       "WN    695.117309\n",
       "Name: Velocidad, dtype: float64"
      ]
     },
     "execution_count": 15,
     "metadata": {},
     "output_type": "execute_result"
    }
   ],
   "source": [
    "#Velocidad Promedio de cada Aerolinea\n",
    "data.groupby('AIRLINE').Velocidad.mean()"
   ]
  },
  {
   "cell_type": "code",
   "execution_count": 16,
   "metadata": {},
   "outputs": [
    {
     "name": "stdout",
     "output_type": "stream",
     "text": [
      "Esta es la velocidad maxima promedio = 771.7137308186021 km/h y pertenece a la aerolinea: B6\n",
      "Esta es la velocidad minima promedio = 606.0347125110051 km/h y pertenece a la aerolinea: OO\n"
     ]
    }
   ],
   "source": [
    "#Velocidades promedio, maxima y minima entre todas las aerolineas.\n",
    "print('Esta es la velocidad maxima promedio =', data.groupby('AIRLINE').Velocidad.mean().max(),\n",
    "     'km/h y pertenece a la aerolinea:', data.groupby('AIRLINE').Velocidad.mean().idxmax())\n",
    "print('Esta es la velocidad minima promedio =',data.groupby('AIRLINE').Velocidad.mean().min(), \n",
    "     'km/h y pertenece a la aerolinea:', data.groupby('AIRLINE').Velocidad.mean().idxmin())"
   ]
  },
  {
   "cell_type": "code",
   "execution_count": 17,
   "metadata": {
    "scrolled": true
   },
   "outputs": [
    {
     "data": {
      "text/plain": [
       "ORG_AIR  DEST_AIR\n",
       "ATL      ABE          31\n",
       "         ABQ          16\n",
       "         ABY          19\n",
       "         ACY           6\n",
       "         AEX          40\n",
       "                    ... \n",
       "SFO      SNA         122\n",
       "         STL          20\n",
       "         SUN          10\n",
       "         TUS          20\n",
       "         XNA           2\n",
       "Name: DAY, Length: 1130, dtype: int64"
      ]
     },
     "execution_count": 17,
     "metadata": {},
     "output_type": "execute_result"
    }
   ],
   "source": [
    "#Cuantos vuelos se hicieron por ruta?\n",
    "data.groupby(['ORG_AIR', 'DEST_AIR']).count().DAY"
   ]
  },
  {
   "cell_type": "code",
   "execution_count": 18,
   "metadata": {},
   "outputs": [
    {
     "data": {
      "text/plain": [
       "ORG_AIR  DEST_AIR\n",
       "ATL      ABE         696.609718\n",
       "         ABQ         720.689831\n",
       "         ABY         493.497862\n",
       "         ACY         718.718305\n",
       "         AEX         617.546200\n",
       "                        ...    \n",
       "SFO      SNA         562.269860\n",
       "         STL         844.275815\n",
       "         SUN         729.386260\n",
       "         TUS         726.025214\n",
       "         XNA         862.650507\n",
       "Name: Velocidad, Length: 1130, dtype: float64"
      ]
     },
     "execution_count": 18,
     "metadata": {},
     "output_type": "execute_result"
    }
   ],
   "source": [
    "#Velocidad promedio por ruta\n",
    "data.groupby(['ORG_AIR', 'DEST_AIR']).Velocidad.mean()"
   ]
  },
  {
   "cell_type": "code",
   "execution_count": 19,
   "metadata": {},
   "outputs": [
    {
     "name": "stdout",
     "output_type": "stream",
     "text": [
      "La ruta con mayor velocidad promedio es: ('LAX', 'PBI') con una velocidad de = 918.3091102040818 km/h\n"
     ]
    }
   ],
   "source": [
    "#Cual es la ruta con mayor velocidad promedio?\n",
    "print('La ruta con mayor velocidad promedio es:' ,data.groupby(['ORG_AIR', 'DEST_AIR']).Velocidad.mean().idxmax(),\n",
    "      'con una velocidad de =',data.groupby(['ORG_AIR', 'DEST_AIR']).Velocidad.mean().max(), 'km/h' )"
   ]
  },
  {
   "cell_type": "code",
   "execution_count": 20,
   "metadata": {},
   "outputs": [
    {
     "name": "stdout",
     "output_type": "stream",
     "text": [
      "La ruta con mayor tiempo de vuelo promedio es: ('ATL', 'HNL') con un tiempo de = 546.8 minutos, aproximadamente 9.11 horas\n"
     ]
    }
   ],
   "source": [
    "#Cuál es la ruta para la cual se demora más tiempo de vuelo en promedio?\n",
    "print('La ruta con mayor tiempo de vuelo promedio es:' ,data.groupby(['ORG_AIR', 'DEST_AIR']).AIR_TIME.mean().idxmax(),\n",
    "      'con un tiempo de =',data.groupby(['ORG_AIR', 'DEST_AIR']).AIR_TIME.mean().max(), 'minutos, aproximadamente', \n",
    "      round((data.groupby(['ORG_AIR', 'DEST_AIR']).AIR_TIME.mean().max() /60), 2), 'horas')"
   ]
  },
  {
   "cell_type": "code",
   "execution_count": 21,
   "metadata": {},
   "outputs": [
    {
     "data": {
      "text/plain": [
       "ORG_AIR\n",
       "ATL     636.161337\n",
       "DEN     874.241762\n",
       "DFW     792.962927\n",
       "IAH     828.256843\n",
       "LAS    1017.421996\n",
       "LAX    1258.186110\n",
       "MSP     824.420821\n",
       "ORD     717.964022\n",
       "PHX     967.145123\n",
       "SFO    1191.960700\n",
       "Name: DIST, dtype: float64"
      ]
     },
     "execution_count": 21,
     "metadata": {},
     "output_type": "execute_result"
    }
   ],
   "source": [
    "#Cuál es la distancia promedio que recorren los aviones que parten de cada aeropuerto? con 2 decimales\n",
    "data.groupby('ORG_AIR').DIST.mean()"
   ]
  },
  {
   "cell_type": "code",
   "execution_count": 22,
   "metadata": {},
   "outputs": [
    {
     "name": "stdout",
     "output_type": "stream",
     "text": [
      "Parten desde el aeropuerto: LAX y tienen una distancia promedio de = 1258.1861096960436 kilometros\n"
     ]
    }
   ],
   "source": [
    "#Desde qué Aeropuerto parten los aviones que recorrerán la mayor distancia promedio?\n",
    "print('Parten desde el aeropuerto:', data.groupby('ORG_AIR').DIST.mean().idxmax(),\n",
    "      'y tienen una distancia promedio de =', data.groupby('ORG_AIR').DIST.mean().max(), 'kilometros')"
   ]
  },
  {
   "cell_type": "code",
   "execution_count": 23,
   "metadata": {},
   "outputs": [
    {
     "name": "stdout",
     "output_type": "stream",
     "text": [
      "La empresa con viajes mas largos promedio es: HA y tienen una distancia promedio de = 2615.1785714285716 kilometros\n"
     ]
    }
   ],
   "source": [
    "#Cuál es la empresa que hace los viajes promedio más largos?\n",
    "print('La empresa con viajes mas largos promedio es:', data.groupby('AIRLINE').DIST.mean().idxmax(),\n",
    "      'y tienen una distancia promedio de =', data.groupby('AIRLINE').DIST.mean().max(), 'kilometros')"
   ]
  },
  {
   "cell_type": "code",
   "execution_count": 24,
   "metadata": {},
   "outputs": [
    {
     "data": {
      "text/plain": [
       "10.92"
      ]
     },
     "execution_count": 24,
     "metadata": {},
     "output_type": "execute_result"
    }
   ],
   "source": [
    "#Calcule el promedio de los atrasos en la partida de todos los vuelos con 2 decimales.\n",
    "round(data.DEP_DELAY.mean(),2)"
   ]
  },
  {
   "cell_type": "code",
   "execution_count": 25,
   "metadata": {},
   "outputs": [
    {
     "data": {
      "text/plain": [
       "ORG_AIR\n",
       "ATL     9.267446\n",
       "DEN    11.052586\n",
       "DFW    11.593030\n",
       "IAH    11.821255\n",
       "LAS    10.792156\n",
       "LAX    10.961690\n",
       "MSP     7.206256\n",
       "ORD    14.760098\n",
       "PHX     8.502841\n",
       "SFO    11.028730\n",
       "Name: DEP_DELAY, dtype: float64"
      ]
     },
     "execution_count": 25,
     "metadata": {},
     "output_type": "execute_result"
    }
   ],
   "source": [
    "#Calcule el promedio de los atrasos en la partida por cada aeropuerto de origen\n",
    "data.groupby('ORG_AIR').DEP_DELAY.mean()"
   ]
  },
  {
   "cell_type": "code",
   "execution_count": 26,
   "metadata": {},
   "outputs": [
    {
     "name": "stdout",
     "output_type": "stream",
     "text": [
      "El aeropuerto con mas retrasos promedio es: ORD y tienen una demora promedio de = 14.760098219766729 minutos\n"
     ]
    }
   ],
   "source": [
    "#Cuál es el aeropuerto del que parten con más retraso promedio?\n",
    "print('El aeropuerto con mas retrasos promedio es:', data.groupby('ORG_AIR').DEP_DELAY.mean().idxmax() ,\n",
    "      'y tienen una demora promedio de =', data.groupby('ORG_AIR').DEP_DELAY.mean().max(), 'minutos')"
   ]
  },
  {
   "cell_type": "code",
   "execution_count": 27,
   "metadata": {},
   "outputs": [
    {
     "name": "stdout",
     "output_type": "stream",
     "text": [
      "El aeropuerto con mas retrasos promedio es: NK y tienen una demora promedio de = 19.514400535833893 minutos\n"
     ]
    }
   ],
   "source": [
    "#Cuál es la empresa con retrasos de partida promedio más largos y a cuánto asciende este valor?\n",
    "print('El aeropuerto con mas retrasos promedio es:', data.groupby('AIRLINE').DEP_DELAY.mean().idxmax() ,\n",
    "      'y tienen una demora promedio de =', data.groupby('AIRLINE').DEP_DELAY.mean().max(), 'minutos')"
   ]
  },
  {
   "cell_type": "code",
   "execution_count": 28,
   "metadata": {},
   "outputs": [
    {
     "data": {
      "text/plain": [
       "MONTH\n",
       "1     5003\n",
       "2     4608\n",
       "3     5485\n",
       "4     5326\n",
       "5     5545\n",
       "6     5672\n",
       "7     5754\n",
       "8     5635\n",
       "9     5235\n",
       "11    5098\n",
       "12    5131\n",
       "Name: DAY, dtype: int64"
      ]
     },
     "execution_count": 28,
     "metadata": {},
     "output_type": "execute_result"
    }
   ],
   "source": [
    "#Cuál es la cantidad de vuelos por cada mes?\n",
    "data.groupby('MONTH').count().DAY"
   ]
  },
  {
   "cell_type": "code",
   "execution_count": 29,
   "metadata": {},
   "outputs": [
    {
     "data": {
      "text/plain": [
       "0        (62.565, 954.0]\n",
       "1        (954.0, 1841.0]\n",
       "2        (62.565, 954.0]\n",
       "3        (954.0, 1841.0]\n",
       "4        (954.0, 1841.0]\n",
       "              ...       \n",
       "58487    (954.0, 1841.0]\n",
       "58488    (62.565, 954.0]\n",
       "58489    (62.565, 954.0]\n",
       "58490    (62.565, 954.0]\n",
       "58491    (62.565, 954.0]\n",
       "Name: DIST, Length: 58492, dtype: category\n",
       "Categories (5, interval[float64]): [(62.565, 954.0] < (954.0, 1841.0] < (1841.0, 2728.0] < (2728.0, 3615.0] < (3615.0, 4502.0]]"
      ]
     },
     "execution_count": 29,
     "metadata": {},
     "output_type": "execute_result"
    }
   ],
   "source": [
    "#Dividivimos las distancias en 5 bins para generar trabajo agrupado\n",
    "cortes_dist=pd.cut(data.DIST,5)\n",
    "cortes_dist"
   ]
  },
  {
   "cell_type": "code",
   "execution_count": 30,
   "metadata": {},
   "outputs": [
    {
     "name": "stdout",
     "output_type": "stream",
     "text": [
      "DIST              AIRLINE\n",
      "(62.565, 954.0]   DL         7411\n",
      "                  OO         5867\n",
      "                  WN         5756\n",
      "                  EV         5550\n",
      "                  AA         3997\n",
      "                  UA         3438\n",
      "                  MQ         3388\n",
      "                  US          762\n",
      "                  NK          759\n",
      "                  F9          730\n",
      "                  VX          522\n",
      "                  AS          495\n",
      "                  B6          170\n",
      "(954.0, 1841.0]   AA         3801\n",
      "                  UA         2845\n",
      "                  WN         2229\n",
      "                  DL         2120\n",
      "                  OO          721\n",
      "                  NK          660\n",
      "                  F9          545\n",
      "                  US          501\n",
      "                  EV          308\n",
      "                  AS          219\n",
      "                  VX          116\n",
      "                  MQ           83\n",
      "                  B6           47\n",
      "(1841.0, 2728.0]  UA         1444\n",
      "                  DL         1057\n",
      "                  AA         1037\n",
      "                  WN          433\n",
      "                  VX          355\n",
      "                  US          330\n",
      "                  B6          326\n",
      "                  NK           97\n",
      "                  HA           71\n",
      "                  AS           47\n",
      "                  F9           42\n",
      "(2728.0, 3615.0]  HA           41\n",
      "                  UA           37\n",
      "                  AA           25\n",
      "                  US           22\n",
      "                  AS            7\n",
      "                  DL            2\n",
      "(3615.0, 4502.0]  AA           40\n",
      "                  UA           28\n",
      "                  DL           11\n",
      "Name: AIRLINE, dtype: int64\n"
     ]
    }
   ],
   "source": [
    "#Cantidad de vuelos de cada Aerolinea por bin.\n",
    "print(data.groupby(cortes_dist)['AIRLINE'].value_counts())"
   ]
  },
  {
   "cell_type": "code",
   "execution_count": 31,
   "metadata": {},
   "outputs": [
    {
     "data": {
      "text/plain": [
       "0        (-25.218, 219.6]\n",
       "1        (-25.218, 219.6]\n",
       "2        (-25.218, 219.6]\n",
       "3        (-25.218, 219.6]\n",
       "4        (-25.218, 219.6]\n",
       "               ...       \n",
       "58487    (-25.218, 219.6]\n",
       "58488    (-25.218, 219.6]\n",
       "58489    (-25.218, 219.6]\n",
       "58490    (-25.218, 219.6]\n",
       "58491    (-25.218, 219.6]\n",
       "Name: DEP_DELAY, Length: 58492, dtype: category\n",
       "Categories (5, interval[float64]): [(-25.218, 219.6] < (219.6, 463.2] < (463.2, 706.8] < (706.8, 950.4] < (950.4, 1194.0]]"
      ]
     },
     "execution_count": 31,
     "metadata": {},
     "output_type": "execute_result"
    }
   ],
   "source": [
    "#Queremos saber cuántos vuelos parten con cada rango de atraso.\n",
    "bin_delay=pd.cut(data.DEP_DELAY,5)\n",
    "bin_delay"
   ]
  },
  {
   "cell_type": "code",
   "execution_count": 32,
   "metadata": {},
   "outputs": [
    {
     "data": {
      "text/plain": [
       "(-25.218, 219.6]    57395\n",
       "(219.6, 463.2]        239\n",
       "(463.2, 706.8]         18\n",
       "(706.8, 950.4]          6\n",
       "(950.4, 1194.0]         1\n",
       "Name: DEP_DELAY, dtype: int64"
      ]
     },
     "execution_count": 32,
     "metadata": {},
     "output_type": "execute_result"
    }
   ],
   "source": [
    "bin_delay.value_counts()"
   ]
  },
  {
   "cell_type": "code",
   "execution_count": 33,
   "metadata": {},
   "outputs": [
    {
     "data": {
      "text/plain": [
       "DEP_DELAY         ORG_AIR\n",
       "(-25.218, 219.6]  ATL        10315\n",
       "                  ORD         8081\n",
       "                  DFW         6909\n",
       "                  LAX         5795\n",
       "                  DEN         5777\n",
       "                  PHX         4564\n",
       "                  SFO         4298\n",
       "                  IAH         4296\n",
       "                  LAS         3988\n",
       "                  MSP         3372\n",
       "(219.6, 463.2]    ORD           62\n",
       "                  DFW           31\n",
       "                  ATL           25\n",
       "                  LAX           24\n",
       "                  IAH           21\n",
       "                  DEN           20\n",
       "                  MSP           17\n",
       "                  SFO           16\n",
       "                  LAS           12\n",
       "                  PHX           11\n",
       "(463.2, 706.8]    ATL            6\n",
       "                  DEN            2\n",
       "                  LAS            2\n",
       "                  ORD            2\n",
       "                  SFO            2\n",
       "                  DFW            1\n",
       "                  IAH            1\n",
       "                  LAX            1\n",
       "                  PHX            1\n",
       "(706.8, 950.4]    DFW            3\n",
       "                  IAH            1\n",
       "                  LAS            1\n",
       "                  LAX            1\n",
       "(950.4, 1194.0]   DEN            1\n",
       "Name: ORG_AIR, dtype: int64"
      ]
     },
     "execution_count": 33,
     "metadata": {},
     "output_type": "execute_result"
    }
   ],
   "source": [
    "#Cuántos vuelos existen de cada aeropuerto en cada rango de atraso en la partida \n",
    "data.groupby(bin_delay)['ORG_AIR'].value_counts()"
   ]
  },
  {
   "cell_type": "markdown",
   "metadata": {},
   "source": [
    "------------------------------------------------------------------------------------------------"
   ]
  },
  {
   "cell_type": "markdown",
   "metadata": {},
   "source": [
    "------------------------------------------------------------------------------------------------"
   ]
  },
  {
   "cell_type": "markdown",
   "metadata": {},
   "source": [
    "## Graficos y conclusiones"
   ]
  },
  {
   "cell_type": "code",
   "execution_count": 34,
   "metadata": {},
   "outputs": [
    {
     "data": {
      "text/plain": [
       "<AxesSubplot:xlabel='DIST', ylabel='AIR_TIME'>"
      ]
     },
     "execution_count": 34,
     "metadata": {},
     "output_type": "execute_result"
    },
    {
     "data": {
      "image/png": "[encoded data removed]",
      "text/plain": [
       "<Figure size 864x864 with 1 Axes>"
      ]
     },
     "metadata": {
      "needs_background": "light"
     },
     "output_type": "display_data"
    }
   ],
   "source": [
    "#Scatter plot, observamos que por obviedad, a mayor distancia de viaje, mayor tiempo de vuelo \n",
    "data.plot(kind='scatter',x='DIST', y='AIR_TIME',figsize=(12,12))\n"
   ]
  },
  {
   "cell_type": "code",
   "execution_count": 35,
   "metadata": {
    "scrolled": false
   },
   "outputs": [
    {
     "data": {
      "text/plain": [
       "array([[<AxesSubplot:title={'center':'MONTH'}>,\n",
       "        <AxesSubplot:title={'center':'DAY'}>,\n",
       "        <AxesSubplot:title={'center':'WEEKDAY'}>],\n",
       "       [<AxesSubplot:title={'center':'SCHED_DEP'}>,\n",
       "        <AxesSubplot:title={'center':'DEP_DELAY'}>,\n",
       "        <AxesSubplot:title={'center':'AIR_TIME'}>],\n",
       "       [<AxesSubplot:title={'center':'DIST'}>,\n",
       "        <AxesSubplot:title={'center':'SCHED_ARR'}>,\n",
       "        <AxesSubplot:title={'center':'ARR_DELAY'}>],\n",
       "       [<AxesSubplot:title={'center':'DIVERTED'}>,\n",
       "        <AxesSubplot:title={'center':'CANCELLED'}>,\n",
       "        <AxesSubplot:title={'center':'Velocidad'}>]], dtype=object)"
      ]
     },
     "execution_count": 35,
     "metadata": {},
     "output_type": "execute_result"
    },
    {
     "data": {
      "image/png": "[encoded data removed]",
      "text/plain": [
       "<Figure size 1008x1008 with 12 Axes>"
      ]
     },
     "metadata": {
      "needs_background": "light"
     },
     "output_type": "display_data"
    }
   ],
   "source": [
    "#Cruzamos con el histograma, la cantidad total de vuelos con cada columna, viendo asi, su distribucion\n",
    "data.hist(figsize=(14,14))"
   ]
  },
  {
   "cell_type": "code",
   "execution_count": 36,
   "metadata": {},
   "outputs": [
    {
     "data": {
      "text/plain": [
       "<AxesSubplot:>"
      ]
     },
     "execution_count": 36,
     "metadata": {},
     "output_type": "execute_result"
    },
    {
     "data": {
      "image/png": "[encoded data removed]",
      "text/plain": [
       "<Figure size 864x576 with 1 Axes>"
      ]
     },
     "metadata": {
      "needs_background": "light"
     },
     "output_type": "display_data"
    }
   ],
   "source": [
    "#Histograma de cantidad de vuelos contra dias del mes, no encontramos mucha diferencia sobre elecciones particulares\n",
    "data.DAY.hist(figsize=(12,8))"
   ]
  },
  {
   "cell_type": "code",
   "execution_count": 37,
   "metadata": {},
   "outputs": [
    {
     "data": {
      "text/plain": [
       "<AxesSubplot:>"
      ]
     },
     "execution_count": 37,
     "metadata": {},
     "output_type": "execute_result"
    },
    {
     "data": {
      "image/png": "[encoded data removed]",
      "text/plain": [
       "<Figure size 720x720 with 1 Axes>"
      ]
     },
     "metadata": {
      "needs_background": "light"
     },
     "output_type": "display_data"
    }
   ],
   "source": [
    "#Histograma de cantidad de vuelos y demora aproximada, los estandartes de las aerolineas demuestran su poca o nula demora\n",
    "data.DEP_DELAY.hist(figsize=(10,10))\n"
   ]
  },
  {
   "cell_type": "code",
   "execution_count": 38,
   "metadata": {},
   "outputs": [
    {
     "data": {
      "text/plain": [
       "<AxesSubplot:>"
      ]
     },
     "execution_count": 38,
     "metadata": {},
     "output_type": "execute_result"
    },
    {
     "data": {
      "image/png": "[encoded data removed]",
      "text/plain": [
       "<Figure size 864x864 with 1 Axes>"
      ]
     },
     "metadata": {
      "needs_background": "light"
     },
     "output_type": "display_data"
    }
   ],
   "source": [
    "#Boxplot general, observamos que algunas columnas tienen mas outliers que el resto\n",
    "data.plot(kind='box', figsize=(12,12))"
   ]
  },
  {
   "cell_type": "code",
   "execution_count": 39,
   "metadata": {},
   "outputs": [
    {
     "data": {
      "text/plain": [
       "<AxesSubplot:>"
      ]
     },
     "execution_count": 39,
     "metadata": {},
     "output_type": "execute_result"
    },
    {
     "data": {
      "image/png": "[encoded data removed]",
      "text/plain": [
       "<Figure size 720x864 with 1 Axes>"
      ]
     },
     "metadata": {
      "needs_background": "light"
     },
     "output_type": "display_data"
    }
   ],
   "source": [
    "#Boxplot de Airtime, sin dudas, la que mas presenta Outliers\n",
    "data.AIR_TIME.plot(kind='box', figsize=(10,12))"
   ]
  },
  {
   "cell_type": "code",
   "execution_count": 40,
   "metadata": {},
   "outputs": [
    {
     "data": {
      "text/plain": [
       "<AxesSubplot:>"
      ]
     },
     "execution_count": 40,
     "metadata": {},
     "output_type": "execute_result"
    },
    {
     "data": {
      "image/png": "[encoded data removed]",
      "text/plain": [
       "<Figure size 720x864 with 1 Axes>"
      ]
     },
     "metadata": {
      "needs_background": "light"
     },
     "output_type": "display_data"
    }
   ],
   "source": [
    "#Boxplot para el atraso en la salida.\n",
    "data.DEP_DELAY.plot(kind='box',figsize=(10,12))"
   ]
  },
  {
   "cell_type": "code",
   "execution_count": 41,
   "metadata": {},
   "outputs": [
    {
     "data": {
      "text/plain": [
       "<AxesSubplot:ylabel='Frequency'>"
      ]
     },
     "execution_count": 41,
     "metadata": {},
     "output_type": "execute_result"
    },
    {
     "data": {
      "image/png": "[encoded data removed]",
      "text/plain": [
       "<Figure size 720x864 with 1 Axes>"
      ]
     },
     "metadata": {
      "needs_background": "light"
     },
     "output_type": "display_data"
    }
   ],
   "source": [
    "#Histograma para la demora de salida\n",
    "data.DEP_DELAY.plot(kind='hist',figsize=(10,12))"
   ]
  },
  {
   "cell_type": "markdown",
   "metadata": {},
   "source": [
    "### Con estos ultimos dos graficos podemos determinar que la normal es que NO existan demoras, de ser asi, no suceden con frecuencia y no tienen alto grado de retraso"
   ]
  },
  {
   "cell_type": "markdown",
   "metadata": {},
   "source": [
    "------------------------------------"
   ]
  },
  {
   "cell_type": "code",
   "execution_count": 42,
   "metadata": {},
   "outputs": [
    {
     "data": {
      "text/plain": [
       "<AxesSubplot:xlabel='DIST', ylabel='ARR_DELAY'>"
      ]
     },
     "execution_count": 42,
     "metadata": {},
     "output_type": "execute_result"
    },
    {
     "data": {
      "image/png": "[encoded data removed]",
      "text/plain": [
       "<Figure size 432x288 with 1 Axes>"
      ]
     },
     "metadata": {
      "needs_background": "light"
     },
     "output_type": "display_data"
    }
   ],
   "source": [
    "#Scatter de Distancia contra Demora de llegada\n",
    "data.plot(kind='scatter',y='ARR_DELAY', x='DIST')"
   ]
  },
  {
   "cell_type": "markdown",
   "metadata": {},
   "source": [
    "#### A menor distancia, mayor probabilidad de demora"
   ]
  },
  {
   "cell_type": "code",
   "execution_count": 43,
   "metadata": {},
   "outputs": [
    {
     "data": {
      "text/plain": [
       "<AxesSubplot:xlabel='ARR_DELAY', ylabel='DEP_DELAY'>"
      ]
     },
     "execution_count": 43,
     "metadata": {},
     "output_type": "execute_result"
    },
    {
     "data": {
      "image/png": "[encoded data removed]",
      "text/plain": [
       "<Figure size 432x288 with 1 Axes>"
      ]
     },
     "metadata": {
      "needs_background": "light"
     },
     "output_type": "display_data"
    }
   ],
   "source": [
    "#Scatter de demora de salida contra demora de llegada\n",
    "data.plot(kind='scatter',y='DEP_DELAY', x='ARR_DELAY')"
   ]
  },
  {
   "cell_type": "markdown",
   "metadata": {},
   "source": [
    "#### Es correlativa la demora de Salida con la de Llegada"
   ]
  }
 ],
 "metadata": {
  "kernelspec": {
   "display_name": "Python 3",
   "language": "python",
   "name": "python3"
  },
  "language_info": {
   "codemirror_mode": {
    "name": "ipython",
    "version": 3
   },
   "file_extension": ".py",
   "mimetype": "text/x-python",
   "name": "python",
   "nbconvert_exporter": "python",
   "pygments_lexer": "ipython3",
   "version": "3.8.3"
  }
 },
 "nbformat": 4,
 "nbformat_minor": 4
}
